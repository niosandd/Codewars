{
 "cells": [
  {
   "cell_type": "markdown",
   "id": "5a639935-cacc-4cde-8632-126abb0d1ca9",
   "metadata": {},
   "source": [
    "<br>Complete the function so that it finds the average of the three scores passed to it and returns the letter value associated with that grade.<br><br>\n",
    "\n",
    "Numerical Score\tLetter Grade<br>\n",
    "90 <= score <= 100\t'A'<br>\n",
    "80 <= score < 90\t'B'<br>\n",
    "70 <= score < 80\t'C'<br>\n",
    "60 <= score < 70\t'D'<br>\n",
    "0 <= score < 60\t'F'<br>\n",
    "Tested values are all between 0 and 100. Theres is no need to check for negative values or values greater than 100.<br>"
   ]
  },
  {
   "cell_type": "code",
   "execution_count": 1,
   "id": "8ac2d36b-2cfc-4113-b4c2-f8c44bd2c54c",
   "metadata": {},
   "outputs": [],
   "source": [
    "def get_grade(s1, s2, s3):\n",
    "    score = (s1 + s2 + s3) // 3 # mean_score = np.mean(s1 + s2 + s3)\n",
    "    if 90 <= score <= 100:\n",
    "        return \"A\"\n",
    "    elif 80 <= score < 90 :\n",
    "        return \"B\"\n",
    "    elif 70 <= score < 80 :\n",
    "        return \"C\"\n",
    "    elif 60 <= score < 70 :\n",
    "        return \"D\"\n",
    "    else:\n",
    "        return \"F\""
   ]
  }
 ],
 "metadata": {
  "kernelspec": {
   "display_name": "venv_4",
   "language": "python",
   "name": "venv_4"
  },
  "language_info": {
   "codemirror_mode": {
    "name": "ipython",
    "version": 3
   },
   "file_extension": ".py",
   "mimetype": "text/x-python",
   "name": "python",
   "nbconvert_exporter": "python",
   "pygments_lexer": "ipython3",
   "version": "3.10.7"
  }
 },
 "nbformat": 4,
 "nbformat_minor": 5
}
