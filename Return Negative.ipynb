{
 "cells": [
  {
   "cell_type": "markdown",
   "id": "598e78ca-104a-48df-82ad-bfa3c71a1cf6",
   "metadata": {},
   "source": [
    "\n",
    "    In this simple assignment you are given a number and have to make it negative. But maybe the number is already negative?\n",
    "<br>\n",
    "Examples<br>\n",
    "make_negative(1);  # return -1<br>\n",
    "make_negative(-5); # return -5<br>\n",
    "make_negative(0);  # return 0<br>\n",
    "<br>\n",
    "Notes<br>\n",
    "The number can be negative already, in which case no change is required.<br>\n",
    "Zero (0) is not checked for any specific sign. Negative zeros make no mathematical sense."
   ]
  },
  {
   "cell_type": "code",
   "execution_count": 2,
   "id": "bebfc990-2dc6-46e1-b959-eeafcf1ec645",
   "metadata": {},
   "outputs": [],
   "source": [
    "def make_negative( number ):\n",
    "    \"\"\"\n",
    "    \n",
    "    Func for making negative numbers\n",
    "    Example:\n",
    "    make_negative(1); # return -1\n",
    "    make_negative(-5); # return -5\n",
    "    make_negative(0); # return 0\n",
    "    \n",
    "    \"\"\"\n",
    "    if number < 0:\n",
    "        return number\n",
    "    if number > 0:\n",
    "        return -abs(number)\n",
    "    else:\n",
    "        return number\n",
    "    \n",
    "# make_negative(int(input())) "
   ]
  }
 ],
 "metadata": {
  "kernelspec": {
   "display_name": "venv_4",
   "language": "python",
   "name": "venv_4"
  },
  "language_info": {
   "codemirror_mode": {
    "name": "ipython",
    "version": 3
   },
   "file_extension": ".py",
   "mimetype": "text/x-python",
   "name": "python",
   "nbconvert_exporter": "python",
   "pygments_lexer": "ipython3",
   "version": "3.10.7"
  }
 },
 "nbformat": 4,
 "nbformat_minor": 5
}
