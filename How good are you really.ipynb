{
 "cells": [
  {
   "cell_type": "markdown",
   "id": "6d594d3a-ada5-4d6d-8d65-321a75a0027b",
   "metadata": {},
   "source": [
    "   <br>\n",
    "    There was a test in your class and you passed it. Congratulations!<br>\n",
    "    But you're an ambitious person. You want to know if you're better than the average student in your class.<br>\n",
    "    <br>\n",
    "    You receive an array with your peers' test scores. Now calculate the average and compare your score!<br>\n",
    "    <br>\n",
    "    Return True if you're better, else False!<br>\n",
    "    <br>\n",
    "    Note:<br>\n",
    "    Your points are not included in the array of your class's points. For calculating the average point you may add your point to the given array!<br>"
   ]
  },
  {
   "cell_type": "code",
   "execution_count": 1,
   "id": "81fe10b8-f260-4fa0-990e-f3693ee74589",
   "metadata": {},
   "outputs": [],
   "source": [
    "def better_than_average(class_points, your_points):\n",
    "    return your_points > sum(class_points) / len(class_points)"
   ]
  }
 ],
 "metadata": {
  "kernelspec": {
   "display_name": "venv_4",
   "language": "python",
   "name": "venv_4"
  },
  "language_info": {
   "codemirror_mode": {
    "name": "ipython",
    "version": 3
   },
   "file_extension": ".py",
   "mimetype": "text/x-python",
   "name": "python",
   "nbconvert_exporter": "python",
   "pygments_lexer": "ipython3",
   "version": "3.10.7"
  }
 },
 "nbformat": 4,
 "nbformat_minor": 5
}
