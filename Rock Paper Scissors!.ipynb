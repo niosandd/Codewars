{
 "cells": [
  {
   "cell_type": "markdown",
   "id": "77d97116-a2e9-4228-9b03-d869b0c37b3c",
   "metadata": {},
   "source": [
    "Let's play! You have to return which player won! In case of a draw return Draw!.\n",
    "\n",
    "Examples(Input1, Input2 --> Output):\n",
    "\n",
    "\"scissors\", \"paper\" --> \"Player 1 won!\"\n",
    "\"scissors\", \"rock\" --> \"Player 2 won!\"\n",
    "\"paper\", \"paper\" --> \"Draw!\""
   ]
  },
  {
   "cell_type": "code",
   "execution_count": null,
   "id": "41d267be-79d8-4d68-a95e-758e1583f4bf",
   "metadata": {},
   "outputs": [],
   "source": [
    "def rps(p1, p2):\n",
    "  if p1 == \"scissors\" and p2 == \"paper\":\n",
    "    return \"Player 1 won!\"\n",
    "  elif p1 == \"paper\" and p2 == \"scissors\":\n",
    "    return \"Player 2 won!\"\n",
    "  \n",
    "  if p1 == \"rock\" and p2 == \"scissors\":\n",
    "    return \"Player 1 won!\"\n",
    "  elif p1 == \"scissors\" and p2 == \"rock\":\n",
    "    return \"Player 2 won!\"\n",
    "  \n",
    "  if p1 == \"paper\" and p2 == \"rock\":\n",
    "    return \"Player 1 won!\"\n",
    "  elif p1 == \"rock\" and p2 == \"paper\":\n",
    "    return \"Player 2 won!\"\n",
    "    \n",
    "  else:\n",
    "    return \"Draw!\""
   ]
  }
 ],
 "metadata": {
  "kernelspec": {
   "display_name": "venv_4",
   "language": "python",
   "name": "venv_4"
  },
  "language_info": {
   "codemirror_mode": {
    "name": "ipython",
    "version": 3
   },
   "file_extension": ".py",
   "mimetype": "text/x-python",
   "name": "python",
   "nbconvert_exporter": "python",
   "pygments_lexer": "ipython3",
   "version": "3.10.7"
  }
 },
 "nbformat": 4,
 "nbformat_minor": 5
}
