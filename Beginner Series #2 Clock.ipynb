{
 "cells": [
  {
   "cell_type": "markdown",
   "id": "0673ee70-d39d-40e4-84f4-5b99bdd3df5b",
   "metadata": {},
   "source": [
    "<br>\n",
    "    Clock shows h hours, m minutes and s seconds after midnight.\n",
    "<br><br>\n",
    "    Your task is to write a function which returns the time since midnight in milliseconds.\n",
    "<br>\n",
    "h = 0<br>\n",
    "m = 1<br>\n",
    "s = 1<br>\n",
    "<br>\n",
    "result = 61000"
   ]
  },
  {
   "cell_type": "code",
   "execution_count": 2,
   "id": "052018b8-9d2e-4eda-9143-5c79aa913a2b",
   "metadata": {},
   "outputs": [
    {
     "data": {
      "text/plain": [
       "61000"
      ]
     },
     "execution_count": 2,
     "metadata": {},
     "output_type": "execute_result"
    }
   ],
   "source": [
    "def past(h, m, s):\n",
    "    return (h * 3600000) + (m * 60000) + (s * 1000)\n",
    "past(0, 1, 1)"
   ]
  }
 ],
 "metadata": {
  "kernelspec": {
   "display_name": "venv_4",
   "language": "python",
   "name": "venv_4"
  },
  "language_info": {
   "codemirror_mode": {
    "name": "ipython",
    "version": 3
   },
   "file_extension": ".py",
   "mimetype": "text/x-python",
   "name": "python",
   "nbconvert_exporter": "python",
   "pygments_lexer": "ipython3",
   "version": "3.10.7"
  }
 },
 "nbformat": 4,
 "nbformat_minor": 5
}
