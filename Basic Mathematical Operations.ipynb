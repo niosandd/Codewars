{
 "cells": [
  {
   "cell_type": "markdown",
   "id": "372e2243-d2cd-4c16-b46e-dae81ce2b504",
   "metadata": {},
   "source": [
    "    Your task is to create a function that does four basic mathematical operations.<br><br>\n",
    "\n",
    "    The function should take three arguments - operation(string/char), value1(number), value2(number).<br>\n",
    "    The function should return result of numbers after applying the chosen operation.<br><br>\n",
    "\n",
    "Examples(Operator, value1, value2) --> output<br>\n",
    "('+', 4, 7) --> 11<br>\n",
    "('-', 15, 18) --> -3<br>\n",
    "('*', 5, 5) --> 25<br>\n",
    "('/', 49, 7) --> 7<br>"
   ]
  },
  {
   "cell_type": "code",
   "execution_count": 2,
   "id": "1d20a7ca-2ca3-4e13-95fc-128f6634b785",
   "metadata": {},
   "outputs": [],
   "source": [
    "def basic_op(operator, value1, value2):\n",
    "    return {\"+\": value1 + value2, \"-\": value1 - value2, \"*\": value1 * value2, \"/\": value1 / value2}[operator]\n",
    "\n",
    "# or\n",
    "\n",
    "# def basic_op(operator, value1, value2):\n",
    "#     return eval(f'{value1}{operator}{value2}')"
   ]
  }
 ],
 "metadata": {
  "kernelspec": {
   "display_name": "venv_4",
   "language": "python",
   "name": "venv_4"
  },
  "language_info": {
   "codemirror_mode": {
    "name": "ipython",
    "version": 3
   },
   "file_extension": ".py",
   "mimetype": "text/x-python",
   "name": "python",
   "nbconvert_exporter": "python",
   "pygments_lexer": "ipython3",
   "version": "3.10.7"
  }
 },
 "nbformat": 4,
 "nbformat_minor": 5
}
