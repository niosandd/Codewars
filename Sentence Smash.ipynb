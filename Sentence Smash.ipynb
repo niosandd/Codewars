{
 "cells": [
  {
   "cell_type": "markdown",
   "id": "57e88466-04c0-4ea2-a920-d6edd550b067",
   "metadata": {},
   "source": [
    "    Write a function that takes an array of words and smashes them together into a sentence and returns the sentence. You can ignore any need to sanit|ize words or add punctuation, but you should add spaces between each word. Be careful, there shouldn't be a space at the beginning or the end of the sentence!"
   ]
  },
  {
   "cell_type": "code",
   "execution_count": 1,
   "id": "9bfc66e1-3d06-4037-9bf8-47c240f8f450",
   "metadata": {},
   "outputs": [
    {
     "data": {
      "text/plain": [
       "'hello world this is great'"
      ]
     },
     "execution_count": 1,
     "metadata": {},
     "output_type": "execute_result"
    }
   ],
   "source": [
    "words = ['hello', 'world', 'this', 'is', 'great']\n",
    "\n",
    "def smash(words):\n",
    "    return \" \".join(word for word in words)\n",
    "\n",
    "smash(words)"
   ]
  }
 ],
 "metadata": {
  "kernelspec": {
   "display_name": "venv_4",
   "language": "python",
   "name": "venv_4"
  },
  "language_info": {
   "codemirror_mode": {
    "name": "ipython",
    "version": 3
   },
   "file_extension": ".py",
   "mimetype": "text/x-python",
   "name": "python",
   "nbconvert_exporter": "python",
   "pygments_lexer": "ipython3",
   "version": "3.10.7"
  }
 },
 "nbformat": 4,
 "nbformat_minor": 5
}
