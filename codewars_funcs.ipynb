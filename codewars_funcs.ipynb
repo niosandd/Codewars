{
 "cells": [
  {
   "cell_type": "code",
   "execution_count": 50,
   "id": "93507046-5e52-4374-b617-99322d86737e",
   "metadata": {},
   "outputs": [],
   "source": [
    "import numpy as np"
   ]
  },
  {
   "cell_type": "markdown",
   "id": "6dd8ffad-95fd-40d2-8dec-33f2439a7661",
   "metadata": {},
   "source": [
    "[+]\n",
    "<br>\n",
    "Create a function that takes an integer as an argument and returns \"Even\" for even numbers or \"Odd\" for odd numbers."
   ]
  },
  {
   "cell_type": "code",
   "execution_count": 15,
   "id": "9a44fc4e-1971-4843-9bd6-416958607d4f",
   "metadata": {},
   "outputs": [],
   "source": [
    "def even_or_odd(number):\n",
    "    if number%2==0:\n",
    "        return \"Even\"\n",
    "    else:\n",
    "        return \"Odd\""
   ]
  },
  {
   "cell_type": "code",
   "execution_count": 19,
   "id": "8f92953e-4b37-4711-9ebe-e0b7ba172f67",
   "metadata": {},
   "outputs": [
    {
     "data": {
      "text/plain": [
       "'Odd'"
      ]
     },
     "execution_count": 19,
     "metadata": {},
     "output_type": "execute_result"
    }
   ],
   "source": [
    "# even_or_odd(2) \n",
    "# even_or_odd(3)"
   ]
  },
  {
   "cell_type": "markdown",
   "id": "d56d34cb-0008-4245-8f41-62836eec4865",
   "metadata": {},
   "source": [
    "[+]\n",
    "<br>\n",
    "    Write a function that takes an array of words and smashes them together into a sentence and returns the sentence. You can ignore any need to sanit|ize words or add punctuation, but you should add spaces between each word. Be careful, there shouldn't be a space at the beginning or the end of the sentence!\n",
    "    "
   ]
  },
  {
   "cell_type": "code",
   "execution_count": 18,
   "id": "d20de70a-4a56-4f19-841a-966d56650c64",
   "metadata": {},
   "outputs": [
    {
     "data": {
      "text/plain": [
       "'hello world this is great'"
      ]
     },
     "execution_count": 18,
     "metadata": {},
     "output_type": "execute_result"
    }
   ],
   "source": [
    "words = ['hello', 'world', 'this', 'is', 'great']\n",
    "\n",
    "def smash(words):\n",
    "    return \" \".join(word for word in words)\n",
    "\n",
    "smash(words)"
   ]
  },
  {
   "cell_type": "markdown",
   "id": "76d7ac55-8b34-41dd-a54f-90b5df211003",
   "metadata": {},
   "source": [
    "[+]\n",
    "<br>\n",
    "In this simple assignment you are given a number and have to make it negative. But maybe the number is already negative?\n",
    "<br>\n",
    "Examples<br>\n",
    "make_negative(1);  # return -1<br>\n",
    "make_negative(-5); # return -5<br>\n",
    "make_negative(0);  # return 0<br>\n",
    "Notes<br>\n",
    "The number can be negative already, in which case no change is required.<br>\n",
    "Zero (0) is not checked for any specific sign. Negative zeros make no mathematical sense."
   ]
  },
  {
   "cell_type": "code",
   "execution_count": 40,
   "id": "a9a15fdc-5414-4a24-b406-af05710d5d4f",
   "metadata": {},
   "outputs": [],
   "source": [
    "def make_negative( number ):\n",
    "    \"\"\"\n",
    "    \n",
    "    Func for making negative numbers\n",
    "    Example:\n",
    "    make_negative(1); # return -1\n",
    "    make_negative(-5); # return -5\n",
    "    make_negative(0); # return 0\n",
    "    \n",
    "    \"\"\"\n",
    "    if number < 0:\n",
    "        return number\n",
    "    if number > 0:\n",
    "        return -abs(number)\n",
    "    else:\n",
    "        return number\n",
    "    \n",
    "# make_negative(int(input())) "
   ]
  },
  {
   "cell_type": "markdown",
   "id": "301fd0ee-a1e5-40ff-84d3-97d2d41c9c5d",
   "metadata": {},
   "source": [
    "[+]\n",
    "<br>\n",
    "Clock shows h hours, m minutes and s seconds after midnight.\n",
    "<br><br>\n",
    "Your task is to write a function which returns the time since midnight in milliseconds.\n",
    "<br>\n",
    "h = 0<br>\n",
    "m = 1<br>\n",
    "s = 1<br>\n",
    "<br>\n",
    "result = 61000"
   ]
  },
  {
   "cell_type": "code",
   "execution_count": 43,
   "id": "9ad32d58-d134-4c5d-b0e8-c1d4180906bc",
   "metadata": {},
   "outputs": [
    {
     "data": {
      "text/plain": [
       "61000"
      ]
     },
     "execution_count": 43,
     "metadata": {},
     "output_type": "execute_result"
    }
   ],
   "source": [
    "def past(h, m, s):\n",
    "    return (h * 3600000) + (m * 60000) + (s * 1000)\n",
    "past(0, 1, 1)"
   ]
  },
  {
   "cell_type": "markdown",
   "id": "cffa8e10-3310-41b6-82de-8e84f0348b8f",
   "metadata": {},
   "source": [
    "Your task is to create a function that does four basic mathematical operations.<br><br>\n",
    "\n",
    "The function should take three arguments - operation(string/char), value1(number), value2(number).<br>\n",
    "The function should return result of numbers after applying the chosen operation.<br><br>\n",
    "\n",
    "Examples(Operator, value1, value2) --> output<br>\n",
    "('+', 4, 7) --> 11<br>\n",
    "('-', 15, 18) --> -3<br>\n",
    "('*', 5, 5) --> 25<br>\n",
    "('/', 49, 7) --> 7<br>"
   ]
  },
  {
   "cell_type": "code",
   "execution_count": 45,
   "id": "d80076d3-3241-4c89-9cab-cb523b1f8498",
   "metadata": {},
   "outputs": [],
   "source": [
    "def basic_op(operator, value1, value2):\n",
    "    return {\"+\": value1 + value2, \"-\": value1 - value2, \"*\": value1 * value2, \"/\": value1 / value2}[operator]\n",
    "\n",
    "# or\n",
    "\n",
    "# def basic_op(operator, value1, value2):\n",
    "#     return eval(f'{value1}{operator}{value2}')"
   ]
  },
  {
   "cell_type": "markdown",
   "id": "36213488-363f-47ec-b9ef-58c43c2f48dc",
   "metadata": {},
   "source": [
    "[+]\n",
    "<br>Complete the function so that it finds the average of the three scores passed to it and returns the letter value associated with that grade.<br><br>\n",
    "\n",
    "Numerical Score\tLetter Grade<br>\n",
    "90 <= score <= 100\t'A'<br>\n",
    "80 <= score < 90\t'B'<br>\n",
    "70 <= score < 80\t'C'<br>\n",
    "60 <= score < 70\t'D'<br>\n",
    "0 <= score < 60\t'F'<br>\n",
    "Tested values are all between 0 and 100. Theres is no need to check for negative values or values greater than 100.<br>"
   ]
  },
  {
   "cell_type": "code",
   "execution_count": 60,
   "id": "97c70cca-0853-40d4-aa3b-cd234105fb2d",
   "metadata": {},
   "outputs": [],
   "source": [
    "def get_grade(s1, s2, s3):\n",
    "    score = (s1 + s2 + s3) // 3 # mean_score = np.mean(s1 + s2 + s3)\n",
    "    if 90 <= score <= 100:\n",
    "        return \"A\"\n",
    "    elif 80 <= score < 90 :\n",
    "        return \"B\"\n",
    "    elif 70 <= score < 80 :\n",
    "        return \"C\"\n",
    "    elif 60 <= score < 70 :\n",
    "        return \"D\"\n",
    "    else:\n",
    "        return \"F\""
   ]
  },
  {
   "cell_type": "markdown",
   "id": "df02af0f-79be-494f-987d-916910263b2d",
   "metadata": {},
   "source": [
    "[+]<br>\n",
    "There was a test in your class and you passed it. Congratulations!<br>\n",
    "But you're an ambitious person. You want to know if you're better than the average student in your class.<br>\n",
    "<br>\n",
    "You receive an array with your peers' test scores. Now calculate the average and compare your score!<br>\n",
    "<br>\n",
    "Return True if you're better, else False!<br>\n",
    "<br>\n",
    "Note:<br>\n",
    "Your points are not included in the array of your class's points. For calculating the average point you may add your point to the given array!<br>"
   ]
  },
  {
   "cell_type": "code",
   "execution_count": 61,
   "id": "ed9521c5-8a8a-481e-94ad-6d85cd037374",
   "metadata": {},
   "outputs": [],
   "source": [
    "def better_than_average(class_points, your_points):\n",
    "    return your_points > sum(class_points) / len(class_points)"
   ]
  },
  {
   "cell_type": "code",
   "execution_count": null,
   "id": "18c936c8-9e84-4288-a273-e80f60bb541b",
   "metadata": {},
   "outputs": [],
   "source": []
  },
  {
   "cell_type": "code",
   "execution_count": null,
   "id": "94219eef-2739-4b4d-9ddc-531d9ba5d877",
   "metadata": {},
   "outputs": [],
   "source": [
    "def rps(p1, p2):\n",
    "  if p1 == \"scissors\" and p2 == \"paper\":\n",
    "    return \"Player 1 won!\"\n",
    "  elif p1 == \"paper\" and p2 == \"scissors\":\n",
    "    return \"Player 2 won!\"\n",
    "  \n",
    "  if p1 == \"rock\" and p2 == \"scissors\":\n",
    "    return \"Player 1 won!\"\n",
    "  elif p1 == \"scissors\" and p2 == \"rock\":\n",
    "    return \"Player 2 won!\"\n",
    "  \n",
    "  if p1 == \"paper\" and p2 == \"rock\":\n",
    "    return \"Player 1 won!\"\n",
    "  elif p1 == \"rock\" and p2 == \"paper\":\n",
    "    return \"Player 2 won!\"\n",
    "    \n",
    "  else:\n",
    "    return \"Draw!\""
   ]
  }
 ],
 "metadata": {
  "kernelspec": {
   "display_name": "venv_4",
   "language": "python",
   "name": "venv_4"
  },
  "language_info": {
   "codemirror_mode": {
    "name": "ipython",
    "version": 3
   },
   "file_extension": ".py",
   "mimetype": "text/x-python",
   "name": "python",
   "nbconvert_exporter": "python",
   "pygments_lexer": "ipython3",
   "version": "3.10.7"
  }
 },
 "nbformat": 4,
 "nbformat_minor": 5
}
