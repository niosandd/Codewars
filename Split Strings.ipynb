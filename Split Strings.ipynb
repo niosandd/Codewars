{
 "cells": [
  {
   "cell_type": "markdown",
   "id": "25930ff3-2125-44f7-9e28-ba46a18b2f82",
   "metadata": {},
   "source": [
    "**Split Strings**\n",
    "Complete the solution so that it splits the string into pairs of two characters. If the string contains an odd number of characters then it should replace the missing second character of the final pair with an underscore ('_').\n",
    "\n",
    "Пример:"
   ]
  },
  {
   "cell_type": "code",
   "execution_count": null,
   "id": "cc3ece81-4ef0-4433-979d-c7c6b68a70c2",
   "metadata": {},
   "outputs": [],
   "source": [
    "solution('abc') # should return ['ab', 'c_']\n",
    "solution('abcdef') # should return ['ab', 'cd', 'ef']"
   ]
  },
  {
   "cell_type": "code",
   "execution_count": null,
   "id": "2830f788-c43e-4cdf-ab86-395aba858a1e",
   "metadata": {},
   "outputs": [],
   "source": [
    "Решение:"
   ]
  },
  {
   "cell_type": "code",
   "execution_count": 5,
   "id": "141202d1-ed17-4494-933e-598c7d6aa81a",
   "metadata": {},
   "outputs": [
    {
     "data": {
      "text/plain": [
       "['df', 'sd', 'f_']"
      ]
     },
     "execution_count": 5,
     "metadata": {},
     "output_type": "execute_result"
    }
   ],
   "source": [
    "def solution(s):\n",
    "    ls = [s[i:i+2] for i,c in enumerate(s) if i % 2 == 0 and len(s[i:i+2]) == 2]\n",
    "    if len(s) % 2 != 0:\n",
    "        ls.append(s[-1] + \"_\")\n",
    "    return ls\n",
    "\n",
    "solution(\"dfsdf\")"
   ]
  },
  {
   "cell_type": "code",
   "execution_count": 6,
   "id": "cef402f4-5e98-4044-a92a-8927a41d1e93",
   "metadata": {},
   "outputs": [
    {
     "data": {
      "text/plain": [
       "['df', 'df', 'df']"
      ]
     },
     "execution_count": 6,
     "metadata": {},
     "output_type": "execute_result"
    }
   ],
   "source": [
    "solution(\"dfdfdf\")"
   ]
  }
 ],
 "metadata": {
  "kernelspec": {
   "display_name": "Python 3 (ipykernel)",
   "language": "python",
   "name": "python3"
  },
  "language_info": {
   "codemirror_mode": {
    "name": "ipython",
    "version": 3
   },
   "file_extension": ".py",
   "mimetype": "text/x-python",
   "name": "python",
   "nbconvert_exporter": "python",
   "pygments_lexer": "ipython3",
   "version": "3.9.12"
  }
 },
 "nbformat": 4,
 "nbformat_minor": 5
}
